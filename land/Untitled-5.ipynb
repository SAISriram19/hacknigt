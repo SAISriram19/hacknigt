{
 "cells": [
  {
   "cell_type": "markdown",
   "metadata": {},
   "source": [
    "LANDSLIDES PREDICTION"
   ]
  },
  {
   "cell_type": "code",
   "execution_count": 1,
   "metadata": {},
   "outputs": [],
   "source": [
    "import openeo\n",
    "import rasterio\n",
    "from rasterio.plot import show\n",
    "import matplotlib.pyplot as plt\n",
    "import matplotlib.colors\n",
    "import matplotlib.patches as mpatches"
   ]
  },
  {
   "cell_type": "code",
   "execution_count": 2,
   "metadata": {},
   "outputs": [
    {
     "name": "stdout",
     "output_type": "stream",
     "text": [
      "Authenticated using refresh token.\n"
     ]
    }
   ],
   "source": [
    "connection = openeo.connect(\"openeo.dataspace.copernicus.eu\").authenticate_oidc()"
   ]
  },
  {
   "cell_type": "code",
   "execution_count": 3,
   "metadata": {},
   "outputs": [],
   "source": [
    "spatial_extent = {\"west\": 80.499, \"south\": 16.474, \"east\": 80.670, \"north\": 16.598}"
   ]
  },
  {
   "cell_type": "code",
   "execution_count": 4,
   "metadata": {},
   "outputs": [],
   "source": [
    "s2pre = connection.load_collection(\n",
    "    \"SENTINEL2_L2A\",\n",
    "    temporal_extent=[\"2022-08-25\", \"2022-11-25\"],\n",
    "    spatial_extent=spatial_extent,\n",
    "    bands=[\"B04\", \"B08\"],\n",
    ")"
   ]
  },
  {
   "cell_type": "code",
   "execution_count": 5,
   "metadata": {},
   "outputs": [],
   "source": [
    "prendvi = s2pre.ndvi().mean_time()"
   ]
  },
  {
   "cell_type": "code",
   "execution_count": 6,
   "metadata": {},
   "outputs": [],
   "source": [
    "s2post = connection.load_collection(\n",
    "    \"SENTINEL2_L2A\",\n",
    "    temporal_extent=[\"2022-11-26\", \"2022-12-25\"],\n",
    "    spatial_extent=spatial_extent,\n",
    "    bands=[\"B04\", \"B08\"],\n",
    ")"
   ]
  },
  {
   "cell_type": "code",
   "execution_count": 7,
   "metadata": {},
   "outputs": [],
   "source": [
    "# calculate post NDVI and take a mean over temporal extent\n",
    "postndvi = s2post.ndvi().mean_time()"
   ]
  },
  {
   "cell_type": "code",
   "execution_count": 8,
   "metadata": {},
   "outputs": [],
   "source": [
    "# calculate difference in NDVI\n",
    "diff = postndvi - prendvi"
   ]
  },
  {
   "cell_type": "code",
   "execution_count": 9,
   "metadata": {},
   "outputs": [],
   "source": [
    "# lets execute the process\n",
    "diff.download(\"NDVIDiff.tiff\")"
   ]
  },
  {
   "cell_type": "code",
   "execution_count": 10,
   "metadata": {},
   "outputs": [],
   "source": [
    "# load the calculated data\n",
    "img = rasterio.open(\"NDVIDiff.tiff\")"
   ]
  },
  {
   "cell_type": "code",
   "execution_count": 11,
   "metadata": {},
   "outputs": [
    {
     "data": {
      "text/plain": [
       "<matplotlib.legend.Legend at 0x130be6a4e50>"
      ]
     },
     "execution_count": 11,
     "metadata": {},
     "output_type": "execute_result"
    },
    {
     "data": {
      "image/png": "[encoded data removed]",
      "text/plain": [
       "<Figure size 640x480 with 1 Axes>"
      ]
     },
     "metadata": {},
     "output_type": "display_data"
    }
   ],
   "source": [
    "value = img.read(1)\n",
    "cmap = matplotlib.colors.ListedColormap([\"black\", \"red\"])\n",
    "fig, ax = plt.subplots(figsize=(8, 6), dpi=80)\n",
    "im = show(\n",
    "    ((value < -0.48) & (value > -1)),\n",
    "    vmin=0,\n",
    "    vmax=1,\n",
    "    cmap=cmap,\n",
    "    transform=img.transform,\n",
    "    ax=ax,\n",
    ")\n",
    "values = [\"Absence\", \"Presence\"]\n",
    "colors = [\"black\", \"red\"]\n",
    "ax.set_title(\"Detected Landslide Area\")\n",
    "ax.set_xlabel(\"X Coordinates\")\n",
    "ax.set_ylabel(\"Y Coordinates\")\n",
    "patches = [\n",
    "    mpatches.Patch(color=colors[i], label=\"Landslide {l}\".format(l=values[i]))\n",
    "    for i in range(len(values))\n",
    "]\n",
    "fig.legend(handles=patches, bbox_to_anchor=(0.83, 1.03), loc=1)"
   ]
  }
 ],
 "metadata": {
  "kernelspec": {
   "display_name": "Python 3",
   "language": "python",
   "name": "python3"
  },
  "language_info": {
   "codemirror_mode": {
    "name": "ipython",
    "version": 3
   },
   "file_extension": ".py",
   "mimetype": "text/x-python",
   "name": "python",
   "nbconvert_exporter": "python",
   "pygments_lexer": "ipython3",
   "version": "3.11.1"
  }
 },
 "nbformat": 4,
 "nbformat_minor": 2
}
