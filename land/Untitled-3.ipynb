{
 "cells": [
  {
   "cell_type": "markdown",
   "metadata": {},
   "source": [
    "WIND ENERGY PREDICTION"
   ]
  },
  {
   "cell_type": "code",
   "execution_count": 1,
   "metadata": {},
   "outputs": [
    {
     "name": "stdout",
     "output_type": "stream",
     "text": [
      "Predicted Wind Energy Generation: 10862.40 kWh/year\n"
     ]
    }
   ],
   "source": [
    "import numpy as np\n",
    "from sklearn.preprocessing import StandardScaler\n",
    "from sklearn.ensemble import RandomForestRegressor\n",
    "\n",
    "def train_model():\n",
    "    # Real-Time Wind Data (Wind Speed (m/s), Air Density (kg/m³), Energy Generated per Hour)\n",
    "    X_train = np.array([\n",
    "        [3, 1.2], [5, 1.22], [7, 1.25], [9, 1.27], [11, 1.3],\n",
    "        [13, 1.32], [15, 1.35], [17, 1.37], [19, 1.4], [21, 1.42]\n",
    "    ])\n",
    "    y_train = np.array([0.5, 1.5, 3.0, 5.0, 7.5, 10.0, 12.5, 15.0, 18.0, 20.5])  # kWh per hour\n",
    "\n",
    "    # Scaling\n",
    "    scaler = StandardScaler()\n",
    "    X_train = scaler.fit_transform(X_train)\n",
    "\n",
    "    # Train Model\n",
    "    model = RandomForestRegressor(n_estimators=100, random_state=42)\n",
    "    model.fit(X_train, y_train)\n",
    "    \n",
    "    return model, scaler\n",
    "\n",
    "# Train the model\n",
    "model, scaler = train_model()\n",
    "\n",
    "def predict_annual_energy(wind_speed, air_density):\n",
    "    input_data = scaler.transform([[wind_speed, air_density]])\n",
    "    hourly_energy = model.predict(input_data)[0]\n",
    "    annual_energy = hourly_energy * 24 * 365  # Convert to annual energy\n",
    "    print(f'Predicted Wind Energy Generation: {annual_energy:.2f} kWh/year')\n",
    "\n",
    "# Example Input: User provides real-time values\n",
    "try:\n",
    "    wind_speed = float(input(\"Enter Wind Speed (m/s): \"))\n",
    "    air_density = float(input(\"Enter Air Density (kg/m³): \"))\n",
    "    predict_annual_energy(wind_speed, air_density)\n",
    "except ValueError:\n",
    "    print(\"Invalid input. Please enter numeric values.\")\n"
   ]
  }
 ],
 "metadata": {
  "kernelspec": {
   "display_name": "Python 3",
   "language": "python",
   "name": "python3"
  },
  "language_info": {
   "codemirror_mode": {
    "name": "ipython",
    "version": 3
   },
   "file_extension": ".py",
   "mimetype": "text/x-python",
   "name": "python",
   "nbconvert_exporter": "python",
   "pygments_lexer": "ipython3",
   "version": "3.11.1"
  }
 },
 "nbformat": 4,
 "nbformat_minor": 2
}
