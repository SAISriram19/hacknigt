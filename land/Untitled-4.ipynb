{
 "cells": [
  {
   "cell_type": "markdown",
   "metadata": {},
   "source": [
    "PREDICTING SOLAR ENERGY GENERATION"
   ]
  },
  {
   "cell_type": "code",
   "execution_count": 1,
   "metadata": {},
   "outputs": [
    {
     "name": "stdout",
     "output_type": "stream",
     "text": [
      "Predicted Energy Generation: 41653.80 kWh/year\n"
     ]
    }
   ],
   "source": [
    "import numpy as np\n",
    "from sklearn.preprocessing import StandardScaler\n",
    "from sklearn.ensemble import RandomForestRegressor\n",
    "\n",
    "def train_model():\n",
    "    # Sample Training Data (Solar Irradiance, Temperature, Energy Generated per Hour)\n",
    "    X_train = np.array([\n",
    "        [400, 25], [500, 30], [600, 35], [700, 40], [800, 45],\n",
    "        [900, 50], [1000, 55], [1100, 60], [1200, 65], [1300, 70]\n",
    "    ])\n",
    "    y_train = np.array([2.5, 3.0, 3.5, 4.0, 4.5, 5.0, 5.5, 6.0, 6.5, 7.0])  # kWh per hour\n",
    "\n",
    "    # Scaling\n",
    "    scaler = StandardScaler()\n",
    "    X_train = scaler.fit_transform(X_train)\n",
    "\n",
    "    # Train Model\n",
    "    model = RandomForestRegressor(n_estimators=100, random_state=42)\n",
    "    model.fit(X_train, y_train)\n",
    "    \n",
    "    return model, scaler\n",
    "\n",
    "# Train the model\n",
    "model, scaler = train_model()\n",
    "\n",
    "def predict_annual_energy(solar_irradiance, temperature):\n",
    "    input_data = scaler.transform([[solar_irradiance, temperature]])\n",
    "    hourly_energy = model.predict(input_data)[0]\n",
    "    annual_energy = hourly_energy * 24 * 365  # Convert to annual energy\n",
    "    print(f'Predicted Energy Generation: {annual_energy:.2f} kWh/year')\n",
    "\n",
    "# Example Input: User provides real-time values\n",
    "try:\n",
    "    solar_irradiance = float(input(\"Enter Solar Irradiance (W/m²): \"))\n",
    "    temperature = float(input(\"Enter Temperature (°C): \"))\n",
    "    predict_annual_energy(solar_irradiance, temperature)\n",
    "except ValueError:\n",
    "    print(\"Invalid input. Please enter numeric values.\")\n"
   ]
  }
 ],
 "metadata": {
  "kernelspec": {
   "display_name": "Python 3",
   "language": "python",
   "name": "python3"
  },
  "language_info": {
   "codemirror_mode": {
    "name": "ipython",
    "version": 3
   },
   "file_extension": ".py",
   "mimetype": "text/x-python",
   "name": "python",
   "nbconvert_exporter": "python",
   "pygments_lexer": "ipython3",
   "version": "3.11.1"
  }
 },
 "nbformat": 4,
 "nbformat_minor": 2
}
